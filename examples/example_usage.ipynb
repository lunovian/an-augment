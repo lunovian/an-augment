{
 "cells": [
  {
   "cell_type": "code",
   "execution_count": 2,
   "metadata": {},
   "outputs": [
    {
     "name": "stdout",
     "output_type": "stream",
     "text": [
      "Requirement already satisfied: matplotlib in c:\\users\\nguye\\documents\\github\\medaugment\\.venv\\lib\\site-packages (3.9.2)\n",
      "Requirement already satisfied: contourpy>=1.0.1 in c:\\users\\nguye\\documents\\github\\medaugment\\.venv\\lib\\site-packages (from matplotlib) (1.3.0)\n",
      "Requirement already satisfied: cycler>=0.10 in c:\\users\\nguye\\documents\\github\\medaugment\\.venv\\lib\\site-packages (from matplotlib) (0.12.1)\n",
      "Requirement already satisfied: fonttools>=4.22.0 in c:\\users\\nguye\\documents\\github\\medaugment\\.venv\\lib\\site-packages (from matplotlib) (4.54.1)\n",
      "Requirement already satisfied: kiwisolver>=1.3.1 in c:\\users\\nguye\\documents\\github\\medaugment\\.venv\\lib\\site-packages (from matplotlib) (1.4.7)\n",
      "Requirement already satisfied: numpy>=1.23 in c:\\users\\nguye\\documents\\github\\medaugment\\.venv\\lib\\site-packages (from matplotlib) (2.1.3)\n",
      "Requirement already satisfied: packaging>=20.0 in c:\\users\\nguye\\documents\\github\\medaugment\\.venv\\lib\\site-packages (from matplotlib) (24.2)\n",
      "Requirement already satisfied: pillow>=8 in c:\\users\\nguye\\documents\\github\\medaugment\\.venv\\lib\\site-packages (from matplotlib) (11.0.0)\n",
      "Requirement already satisfied: pyparsing>=2.3.1 in c:\\users\\nguye\\documents\\github\\medaugment\\.venv\\lib\\site-packages (from matplotlib) (3.2.0)\n",
      "Requirement already satisfied: python-dateutil>=2.7 in c:\\users\\nguye\\documents\\github\\medaugment\\.venv\\lib\\site-packages (from matplotlib) (2.9.0.post0)\n",
      "Requirement already satisfied: six>=1.5 in c:\\users\\nguye\\documents\\github\\medaugment\\.venv\\lib\\site-packages (from python-dateutil>=2.7->matplotlib) (1.16.0)\n",
      "Note: you may need to restart the kernel to use updated packages.\n",
      "Looking in indexes: https://test.pypi.org/simple/\n",
      "Collecting MedAugment==0.1\n",
      "  Downloading https://test-files.pythonhosted.org/packages/5a/ad/b343525ef6af1554c5084367e8f9340ad7324bc2b273d24a8488cb842d3d/MedAugment-0.1-py3-none-any.whl.metadata (278 bytes)\n",
      "Requirement already satisfied: numpy in c:\\users\\nguye\\documents\\github\\medaugment\\.venv\\lib\\site-packages (from MedAugment==0.1) (2.1.3)\n",
      "Requirement already satisfied: opencv-python in c:\\users\\nguye\\documents\\github\\medaugment\\.venv\\lib\\site-packages (from MedAugment==0.1) (4.10.0.84)\n",
      "Requirement already satisfied: scipy in c:\\users\\nguye\\documents\\github\\medaugment\\.venv\\lib\\site-packages (from MedAugment==0.1) (1.14.1)\n",
      "Downloading https://test-files.pythonhosted.org/packages/5a/ad/b343525ef6af1554c5084367e8f9340ad7324bc2b273d24a8488cb842d3d/MedAugment-0.1-py3-none-any.whl (10 kB)\n",
      "Installing collected packages: MedAugment\n",
      "Successfully installed MedAugment-0.1\n",
      "Note: you may need to restart the kernel to use updated packages.\n"
     ]
    }
   ],
   "source": [
    "%pip install matplotlib\n",
    "%pip install -i https://test.pypi.org/simple/ MedAugment==0.1"
   ]
  },
  {
   "cell_type": "code",
   "execution_count": 2,
   "metadata": {},
   "outputs": [
    {
     "ename": "ModuleNotFoundError",
     "evalue": "No module named 'MedAugment'",
     "output_type": "error",
     "traceback": [
      "\u001b[1;31m---------------------------------------------------------------------------\u001b[0m",
      "\u001b[1;31mModuleNotFoundError\u001b[0m                       Traceback (most recent call last)",
      "Cell \u001b[1;32mIn[2], line 3\u001b[0m\n\u001b[0;32m      1\u001b[0m \u001b[38;5;28;01mimport\u001b[39;00m \u001b[38;5;21;01mcv2\u001b[39;00m\n\u001b[0;32m      2\u001b[0m \u001b[38;5;28;01mimport\u001b[39;00m \u001b[38;5;21;01mmatplotlib\u001b[39;00m\u001b[38;5;21;01m.\u001b[39;00m\u001b[38;5;21;01mpyplot\u001b[39;00m \u001b[38;5;28;01mas\u001b[39;00m \u001b[38;5;21;01mplt\u001b[39;00m\n\u001b[1;32m----> 3\u001b[0m \u001b[38;5;28;01mimport\u001b[39;00m \u001b[38;5;21;01mMedAugment\u001b[39;00m  \u001b[38;5;66;03m# Import directly from the installed package\u001b[39;00m\n\u001b[0;32m      5\u001b[0m \u001b[38;5;66;03m# Load the image\u001b[39;00m\n\u001b[0;32m      6\u001b[0m image \u001b[38;5;241m=\u001b[39m cv2\u001b[38;5;241m.\u001b[39mimread(\u001b[38;5;124m\"\u001b[39m\u001b[38;5;124mimages/mri.jpg\u001b[39m\u001b[38;5;124m\"\u001b[39m, cv2\u001b[38;5;241m.\u001b[39mIMREAD_GRAYSCALE) \u001b[38;5;241m/\u001b[39m \u001b[38;5;241m255.0\u001b[39m\n",
      "\u001b[1;31mModuleNotFoundError\u001b[0m: No module named 'MedAugment'"
     ]
    }
   ],
   "source": [
    "import cv2\n",
    "import matplotlib.pyplot as plt\n",
    "import MedAugment  # Import directly from the installed package\n",
    "\n",
    "# Load the image\n",
    "image = cv2.imread(\"images/mri.jpg\", cv2.IMREAD_GRAYSCALE) / 255.0\n",
    "\n",
    "# Initialize the augmentor\n",
    "augmentor = MedicalAugmentation()\n",
    "\n",
    "# Define augmentation parameters\n",
    "params = {\n",
    "    'elastic_deformation': {'alpha': 30, 'sigma': 4},\n",
    "    'intensity_scaling': {'brightness_factor': 1.2, 'contrast_factor': 1.3},\n",
    "    'gaussian_blur': {'blur_radius': 2},\n",
    "    'random_rotation': {'angle_range': (-15, 15)},\n",
    "    'flip': {'flip_horizontal': True, 'flip_vertical': False},\n",
    "    'random_crop_and_scale': {'crop_size': (0.8, 0.8), 'scaling_factor': 1.0},\n",
    "    'add_noise': {'noise_type': 'gaussian', 'noise_intensity': 0.05},\n",
    "    'occlusion': {'mask_shape': 'rectangle', 'mask_size_range': (0.1, 0.2)}\n",
    "}\n",
    "\n",
    "# Apply augmentations\n",
    "augmented_image = augmentor.apply_augmentations(image, **params)\n",
    "\n",
    "# Display original and augmented images\n",
    "plt.figure(figsize=(12, 6))\n",
    "plt.subplot(1, 2, 1)\n",
    "plt.title(\"Original Image\")\n",
    "plt.imshow(image, cmap=\"gray\")\n",
    "\n",
    "plt.subplot(1, 2, 2)\n",
    "plt.title(\"Augmented Image\")\n",
    "plt.imshow(augmented_image, cmap=\"gray\")\n",
    "\n",
    "plt.show()\n"
   ]
  }
 ],
 "metadata": {
  "kernelspec": {
   "display_name": ".venv",
   "language": "python",
   "name": "python3"
  },
  "language_info": {
   "codemirror_mode": {
    "name": "ipython",
    "version": 3
   },
   "file_extension": ".py",
   "mimetype": "text/x-python",
   "name": "python",
   "nbconvert_exporter": "python",
   "pygments_lexer": "ipython3",
   "version": "3.12.7"
  }
 },
 "nbformat": 4,
 "nbformat_minor": 2
}
