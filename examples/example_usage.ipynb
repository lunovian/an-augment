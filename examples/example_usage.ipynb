{
 "cells": [
  {
   "cell_type": "code",
   "execution_count": 2,
   "metadata": {},
   "outputs": [
    {
     "ename": "ModuleNotFoundError",
     "evalue": "No module named 'matplotlib'",
     "output_type": "error",
     "traceback": [
      "\u001b[1;31m---------------------------------------------------------------------------\u001b[0m",
      "\u001b[1;31mModuleNotFoundError\u001b[0m                       Traceback (most recent call last)",
      "Cell \u001b[1;32mIn[2], line 2\u001b[0m\n\u001b[0;32m      1\u001b[0m \u001b[38;5;28;01mimport\u001b[39;00m \u001b[38;5;21;01mcv2\u001b[39;00m\n\u001b[1;32m----> 2\u001b[0m \u001b[38;5;28;01mimport\u001b[39;00m \u001b[38;5;21;01mmatplotlib\u001b[39;00m\u001b[38;5;21;01m.\u001b[39;00m\u001b[38;5;21;01mpyplot\u001b[39;00m \u001b[38;5;28;01mas\u001b[39;00m \u001b[38;5;21;01mplt\u001b[39;00m\n\u001b[0;32m      3\u001b[0m \u001b[38;5;28;01mfrom\u001b[39;00m \u001b[38;5;21;01mMedAugment\u001b[39;00m\u001b[38;5;21;01m.\u001b[39;00m\u001b[38;5;21;01mmedical_augmentation\u001b[39;00m \u001b[38;5;28;01mimport\u001b[39;00m MedicalAugmentation  \u001b[38;5;66;03m# Import directly from the installed package\u001b[39;00m\n\u001b[0;32m      5\u001b[0m \u001b[38;5;66;03m# Load the image\u001b[39;00m\n",
      "\u001b[1;31mModuleNotFoundError\u001b[0m: No module named 'matplotlib'"
     ]
    }
   ],
   "source": [
    "import cv2\n",
    "import matplotlib.pyplot as plt\n",
    "from MedAugment.medical_augmentation import MedicalAugmentation  # Import directly from the installed package\n",
    "\n",
    "# Load the image\n",
    "image = cv2.imread(\"images/mri.jpg\", cv2.IMREAD_GRAYSCALE) / 255.0\n",
    "\n",
    "# Initialize the augmentor\n",
    "augmentor = MedicalAugmentation()\n",
    "\n",
    "# Define augmentation parameters\n",
    "params = {\n",
    "    'elastic_deformation': {'alpha': 30, 'sigma': 4},\n",
    "    'intensity_scaling': {'brightness_factor': 1.2, 'contrast_factor': 1.3},\n",
    "    'gaussian_blur': {'blur_radius': 2},\n",
    "    'random_rotation': {'angle_range': (-15, 15)},\n",
    "    'flip': {'flip_horizontal': True, 'flip_vertical': False},\n",
    "    'random_crop_and_scale': {'crop_size': (0.8, 0.8), 'scaling_factor': 1.0},\n",
    "    'add_noise': {'noise_type': 'gaussian', 'noise_intensity': 0.05},\n",
    "    'occlusion': {'mask_shape': 'rectangle', 'mask_size_range': (0.1, 0.2)}\n",
    "}\n",
    "\n",
    "# Apply augmentations\n",
    "augmented_image = augmentor.apply_augmentations(image, **params)\n",
    "\n",
    "# Display original and augmented images\n",
    "plt.figure(figsize=(12, 6))\n",
    "plt.subplot(1, 2, 1)\n",
    "plt.title(\"Original Image\")\n",
    "plt.imshow(image, cmap=\"gray\")\n",
    "\n",
    "plt.subplot(1, 2, 2)\n",
    "plt.title(\"Augmented Image\")\n",
    "plt.imshow(augmented_image, cmap=\"gray\")\n",
    "\n",
    "plt.show()\n"
   ]
  }
 ],
 "metadata": {
  "kernelspec": {
   "display_name": ".venv",
   "language": "python",
   "name": "python3"
  },
  "language_info": {
   "codemirror_mode": {
    "name": "ipython",
    "version": 3
   },
   "file_extension": ".py",
   "mimetype": "text/x-python",
   "name": "python",
   "nbconvert_exporter": "python",
   "pygments_lexer": "ipython3",
   "version": "3.12.7"
  }
 },
 "nbformat": 4,
 "nbformat_minor": 2
}
