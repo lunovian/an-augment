{
 "cells": [
  {
   "cell_type": "code",
   "execution_count": null,
   "metadata": {},
   "outputs": [],
   "source": [
    "import cv2\n",
    "from src.medical_augmentation import MedicalAugmentation\n",
    "import matplotlib.pyplot as plt\n",
    "\n",
    "# Load the image\n",
    "image = cv2.imread(\"images/mri.jpg\", cv2.IMREAD_GRAYSCALE) / 255.0\n",
    "\n",
    "# Initialize the augmentor\n",
    "augmentor = MedicalAugmentation()\n",
    "\n",
    "# Define augmentation parameters\n",
    "params = {\n",
    "    'elastic_deformation': {'alpha': 30, 'sigma': 4},\n",
    "    'intensity_scaling': {'brightness_factor': 1.2, 'contrast_factor': 1.3},\n",
    "    'gaussian_blur': {'blur_radius': 2},\n",
    "    'random_rotation': {'angle_range': (-15, 15)},\n",
    "    'flip': {'flip_horizontal': True, 'flip_vertical': False},\n",
    "    'random_crop_and_scale': {'crop_size': (0.8, 0.8), 'scaling_factor': 1.0},\n",
    "    'add_noise': {'noise_type': 'gaussian', 'noise_intensity': 0.05},\n",
    "    'occlusion': {'mask_shape': 'rectangle', 'mask_size_range': (0.1, 0.2)}\n",
    "}\n",
    "\n",
    "# Apply augmentations\n",
    "augmented_image = augmentor.apply_augmentations(image, **params)\n",
    "\n",
    "# Display original and augmented images\n",
    "plt.figure(figsize=(10, 5))\n",
    "plt.subplot(1, 2, 1)\n",
    "plt.title(\"Original Image\")\n",
    "plt.imshow(image, cmap=\"gray\")\n",
    "\n",
    "plt.subplot(1, 2, 2)\n",
    "plt.title(\"Augmented Image\")\n",
    "plt.imshow(augmented_image, cmap=\"gray\")\n",
    "\n",
    "plt.show()\n"
   ]
  }
 ],
 "metadata": {
  "kernelspec": {
   "display_name": "Python 3",
   "language": "python",
   "name": "python3"
  },
  "language_info": {
   "name": "python",
   "version": "3.12.3"
  }
 },
 "nbformat": 4,
 "nbformat_minor": 2
}
